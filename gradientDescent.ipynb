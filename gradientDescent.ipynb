{
 "cells": [
  {
   "cell_type": "markdown",
   "metadata": {},
   "source": [
    "Import Packages"
   ]
  },
  {
   "cell_type": "code",
   "execution_count": 3,
   "metadata": {},
   "outputs": [],
   "source": [
    "import numpy as np\n",
    "from numpy import linalg as la\n",
    "import scipy as sc\n",
    "import sklearn as sk\n",
    "import matplotlib.pyplot as plt\n",
    "from mpl_toolkits.mplot3d import Axes3D\n",
    "import pandas as pd\n",
    "import random\n",
    "\n",
    "%matplotlib inline\n"
   ]
  },
  {
   "cell_type": "markdown",
   "metadata": {},
   "source": [
    "Rewrite start"
   ]
  },
  {
   "cell_type": "markdown",
   "metadata": {},
   "source": [
    "Generate test data"
   ]
  },
  {
   "cell_type": "code",
   "execution_count": 64,
   "metadata": {},
   "outputs": [],
   "source": [
    "data = np.loadtxt('ex1data1.txt', delimiter=',') #Set path to file here\n",
    "X = data[:, 0]\n",
    "y = data[:, 1]\n",
    "m = len(y)  # number of training examples"
   ]
  },
  {
   "cell_type": "markdown",
   "metadata": {},
   "source": [
    "Plot data"
   ]
  },
  {
   "cell_type": "code",
   "execution_count": 65,
   "metadata": {},
   "outputs": [],
   "source": [
    "def plotData(data):\n",
    "    print('Plotting Data ...\\n')\n",
    "    \n",
    "    # Plot Data\n",
    "    plt.ylabel('Profit')             # Set the y-axis label\n",
    "    plt.xlabel('Population of City')  # Set the x-axis label\n",
    "\n",
    "    X = [np.ones(m, 1), data[:, 0]] # Add a column of ones to x\n",
    "    theta = np.zeros(2, 1)          # initialize fitting parameters\n",
    "\n",
    "    plt.figure() #Opens a new figure window\n",
    "    plt.plot(X, y, 'rx', markersize = 10.0)       # Plot the data\n",
    "    plt.show()"
   ]
  },
  {
   "cell_type": "code",
   "execution_count": 92,
   "metadata": {},
   "outputs": [
    {
     "ename": "TypeError",
     "evalue": "data type not understood",
     "output_type": "error",
     "traceback": [
      "\u001b[0;31m---------------------------------------------------------------------------\u001b[0m",
      "\u001b[0;31mTypeError\u001b[0m                                 Traceback (most recent call last)",
      "\u001b[0;32m<ipython-input-92-6ff97b0d2c62>\u001b[0m in \u001b[0;36m<module>\u001b[0;34m\u001b[0m\n\u001b[1;32m      1\u001b[0m \u001b[0mones\u001b[0m \u001b[0;34m=\u001b[0m \u001b[0mnp\u001b[0m\u001b[0;34m.\u001b[0m\u001b[0mones\u001b[0m\u001b[0;34m(\u001b[0m\u001b[0mm\u001b[0m\u001b[0;34m)\u001b[0m\u001b[0;34m\u001b[0m\u001b[0;34m\u001b[0m\u001b[0m\n\u001b[0;32m----> 2\u001b[0;31m \u001b[0ma\u001b[0m \u001b[0;34m=\u001b[0m \u001b[0mnp\u001b[0m\u001b[0;34m.\u001b[0m\u001b[0marray\u001b[0m\u001b[0;34m(\u001b[0m\u001b[0mones\u001b[0m\u001b[0;34m,\u001b[0m \u001b[0mX\u001b[0m\u001b[0;34m)\u001b[0m\u001b[0;34m\u001b[0m\u001b[0;34m\u001b[0m\u001b[0m\n\u001b[0m\u001b[1;32m      3\u001b[0m \u001b[0mprint\u001b[0m\u001b[0;34m(\u001b[0m\u001b[0ma\u001b[0m\u001b[0;34m)\u001b[0m\u001b[0;34m\u001b[0m\u001b[0;34m\u001b[0m\u001b[0m\n",
      "\u001b[0;31mTypeError\u001b[0m: data type not understood"
     ]
    }
   ],
   "source": [
    "ones = np.ones(m)\n",
    "a = np.array(ones, X)\n",
    "print(a)"
   ]
  },
  {
   "cell_type": "code",
   "execution_count": null,
   "metadata": {},
   "outputs": [],
   "source": []
  },
  {
   "cell_type": "markdown",
   "metadata": {},
   "source": [
    "Some gradient descent settings"
   ]
  },
  {
   "cell_type": "code",
   "execution_count": null,
   "metadata": {},
   "outputs": [],
   "source": [
    "iterations = 1500\n",
    "alpha = 0.01\n",
    "\n",
    "print('\\nTesting the cost function ...\\n')\n",
    "# compute and display initial cost\n",
    "theta = [0, 0].T\n",
    "\n",
    "\n",
    "def computeCost(X, y, theta):\n",
    "    J = 0\n",
    "    m = len(y)\n",
    "    predictions = X * theta\n",
    "    sqrErrors = (predictions - y) ** 2\n",
    "\n",
    "    J = 1 / (2 * m) * sum(sqrErrors)\n",
    "    \n",
    "    return J\n",
    "\n",
    "\n",
    "J = computeCost(X, y, theta)\n",
    "print('With theta = [0 ; 0] \\n Cost computed = %0.3f \\n', J)\n",
    "\n",
    "# further testing of the cost function\n",
    "J = computeCost(X, y, [-1 ; 2])\n",
    "print('\\n With theta = [-1 ; 2] \\n Cost computed = %0.3f \\n', J)\n",
    "print('Expected cost value (approx) 54.24\\n')\n",
    "\n"
   ]
  },
  {
   "cell_type": "markdown",
   "metadata": {},
   "source": [
    "Gradient descent proper"
   ]
  },
  {
   "cell_type": "code",
   "execution_count": null,
   "metadata": {},
   "outputs": [],
   "source": [
    "print('\\n Running Gradient Descent ...\\n')\n",
    "\n",
    "def gradientDescent(X, y, theta, alpha, num_iters):\n",
    "    # Initialize some useful values\n",
    "    \n",
    "    m = len(y) # number of training examples\n",
    "    J_history = np.zeros(num_iters, 1)\n",
    "    for iter in range(num_iters):\n",
    "        x = X(:, 1)\n",
    "        hypothesis = theta(0) + (x * theta(1))\n",
    "        stdError = hypothesis - y\n",
    "    \n",
    "        #store theta1 as a temp value\n",
    "        temp_zero = theta(1) - alpha * (1/m) * sum(stdError)\n",
    "        temp_one = theta(2) - alpha * (1/m) * sum(stdError * x)\n",
    "    \n",
    "        #the hard part of the simultaneous update\n",
    "        theta = [temp_zero; temp_one]\n",
    "    \n",
    "        J_history(iter) = computeCost(X, y, theta)\n",
    "\n",
    "        # Save the cost J in every iteration    \n",
    "        J_history.append(computeCost(X, y, theta))\n",
    "        \n",
    "    return theta, J_history\n",
    "\n",
    "\n",
    "# run gradient descent\n",
    "theta = gradientDescent(X, y, theta, alpha, iterations);\n",
    "\n",
    "# print theta to screen\n",
    "print('Theta found by gradient descent: \\n')\n",
    "print('%0.3f \\n', theta)\n",
    "\n"
   ]
  },
  {
   "cell_type": "markdown",
   "metadata": {},
   "source": [
    "Plot the linear fit"
   ]
  },
  {
   "cell_type": "code",
   "execution_count": null,
   "metadata": {},
   "outputs": [],
   "source": [
    "# keep previous plot visible\n",
    "plt.legend('Training data', 'Linear regression')\n",
    "plt.figure()\n",
    "plt.plot(X(:,1), X*theta, '-')\n",
    "plt.show()\n",
    "# don't overlay any more plots on this figure\n",
    "\n",
    "# Predict values for population sizes of 35,000 and 70,000\n",
    "predict1 = [1, 3.5] *theta;\n",
    "print('For population = 35,000, we predict a profit of %0.3f\\n', predict1*10000);\n",
    "predict2 = [1, 7] * theta;\n",
    "print('For population = 70,000, we predict a profit of %0.3f\\n', predict2*10000)\n",
    "\n",
    "print('Program paused. Press enter to continue.\\n');\n",
    "print('> \\n')\n",
    "m = input()\n",
    "\n",
    "# ============= Part 4: Visualizing J(theta_0, theta_1) =============\n",
    "print('Visualizing J(theta_0, theta_1) ...\\n')\n",
    "\n",
    "# Grid over which we will calculate J\n",
    "theta0_vals = np.linspace(-10, 10, 100);\n",
    "theta1_vals = np.linspace(-1, 4, 100);\n",
    "\n",
    "# initialize J_vals to a matrix of 0's\n",
    "J_vals = np.zeros(len(theta0_vals), len(theta1_vals));\n",
    "\n",
    "# Fill out J_vals\n",
    "for i in range(0, len(theta0_vals)):\n",
    "    for j in range(0, len(theta1_vals)):\n",
    "        t = [theta0_vals(i); theta1_vals(j)];\n",
    "        J_vals(i, j) = computeCost(X, y, t); \n",
    "        \n",
    "# Transpose J_vals before calling surf, or else the axes will be flipped\n",
    "J_vals = J_vals.T\n",
    "\n",
    "# Surface plot\n",
    "plt.figure()\n",
    "Axes3D.plot_surface(theta0_vals, theta1_vals, J_vals)\n",
    "plt.xlabel('theta_0')\n",
    "plt.ylabel('theta_1')\n",
    "plt.show()\n",
    "\n",
    "# Contour plot\n",
    "# Plot J_vals as 15 contours spaced logarithmically between 0.01 and 100\n",
    "plt.figure()\n",
    "Axes3D.contour(theta0_vals, theta1_vals, J_vals, np.logspace(-2, 3, 20))\n",
    "plt.xlabel('theta_0')\n",
    "plt.ylabel('theta_1')\n",
    "\n",
    "plt.plot(theta(1), theta(2), 'rx', markersize = 10.0, linewidth = 2.0)\n",
    "plt.show()"
   ]
  },
  {
   "cell_type": "markdown",
   "metadata": {},
   "source": [
    "#### Test area:"
   ]
  },
  {
   "cell_type": "code",
   "execution_count": null,
   "metadata": {},
   "outputs": [],
   "source": []
  }
 ],
 "metadata": {
  "kernelspec": {
   "display_name": "Python 3",
   "language": "python",
   "name": "python3"
  },
  "language_info": {
   "codemirror_mode": {
    "name": "ipython",
    "version": 3
   },
   "file_extension": ".py",
   "mimetype": "text/x-python",
   "name": "python",
   "nbconvert_exporter": "python",
   "pygments_lexer": "ipython3",
   "version": "3.7.1"
  }
 },
 "nbformat": 4,
 "nbformat_minor": 2
}
